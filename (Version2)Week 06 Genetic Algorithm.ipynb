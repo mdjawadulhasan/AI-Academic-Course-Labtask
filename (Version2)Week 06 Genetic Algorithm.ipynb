{
 "cells": [
  {
   "cell_type": "markdown",
   "metadata": {},
   "source": [
    "### Problem: Maximie f(x) = x^2-11x+100 when x = 0 to 127"
   ]
  },
  {
   "cell_type": "markdown",
   "metadata": {},
   "source": [
    "Representation or ecoding solution:\n",
    "x can be represented using 7 bits binary number."
   ]
  },
  {
   "cell_type": "markdown",
   "metadata": {},
   "source": [
    "# Step 1: Initialize Population"
   ]
  },
  {
   "cell_type": "code",
   "execution_count": 1,
   "metadata": {
    "_cell_guid": "b1076dfc-b9ad-4769-8c92-a6c4dae69d19",
    "_uuid": "8f2839f25d086af736a60e9eeb907d3b93b6e0e5"
   },
   "outputs": [],
   "source": [
    "import random\n",
    "def initPopulation(b, n = 10): # n is the number of solutions, b is the length\n",
    "    p = [] # to store solution set/ initial population\n",
    "    for i in range(n):\n",
    "        s = [] # to store a solution as a list\n",
    "        for j in range(b):\n",
    "            s.append(random.choice([0,1]))    \n",
    "        # avoid zero\n",
    "        p.append(s)\n",
    "    return p"
   ]
  },
  {
   "cell_type": "code",
   "execution_count": 2,
   "metadata": {},
   "outputs": [
    {
     "data": {
      "text/plain": [
       "[[1, 1, 1, 0, 0, 1, 0],\n",
       " [0, 1, 1, 0, 1, 0, 0],\n",
       " [0, 0, 0, 1, 1, 1, 1],\n",
       " [1, 0, 1, 1, 0, 1, 1],\n",
       " [1, 1, 1, 0, 1, 1, 1],\n",
       " [1, 0, 1, 0, 1, 1, 1],\n",
       " [0, 0, 1, 1, 0, 1, 0],\n",
       " [1, 0, 1, 0, 1, 0, 1],\n",
       " [0, 1, 1, 0, 1, 0, 0],\n",
       " [0, 0, 0, 0, 1, 1, 0],\n",
       " [1, 0, 0, 1, 1, 1, 1],\n",
       " [0, 1, 1, 0, 1, 1, 0],\n",
       " [1, 1, 1, 1, 0, 0, 0],\n",
       " [0, 1, 0, 1, 0, 0, 0],\n",
       " [0, 0, 1, 0, 1, 0, 1],\n",
       " [0, 1, 1, 0, 0, 1, 1],\n",
       " [1, 0, 0, 0, 0, 1, 1],\n",
       " [1, 0, 0, 0, 1, 0, 1],\n",
       " [0, 0, 0, 0, 1, 0, 1],\n",
       " [0, 1, 1, 0, 1, 0, 1]]"
      ]
     },
     "execution_count": 2,
     "metadata": {},
     "output_type": "execute_result"
    }
   ],
   "source": [
    "population = initPopulation(7,20)\n",
    "population"
   ]
  },
  {
   "cell_type": "markdown",
   "metadata": {},
   "source": [
    "# Step 2: Reproduction or Parent Selection"
   ]
  },
  {
   "cell_type": "markdown",
   "metadata": {},
   "source": [
    "Fitness Calculation"
   ]
  },
  {
   "cell_type": "code",
   "execution_count": 3,
   "metadata": {},
   "outputs": [
    {
     "data": {
      "text/plain": [
       "[4, 3, 2, 1, 0]"
      ]
     },
     "execution_count": 3,
     "metadata": {},
     "output_type": "execute_result"
    }
   ],
   "source": [
    "[i for i in range(4,-1,-1)]"
   ]
  },
  {
   "cell_type": "code",
   "execution_count": 4,
   "metadata": {},
   "outputs": [],
   "source": [
    "def getFitness(p): # p is the whole population\n",
    "    f = [] # to store fitness values\n",
    "    for sol in p:\n",
    "        d = 0 # decimel value\n",
    "        b = len(sol)\n",
    "        for i in range(b-1,-1,-1): # binary to decimel\n",
    "            d = d + sol[i]*2**(b-1-i)\n",
    "        f.append(d**2 - 11*d + 100) # fitness function\n",
    "    return f"
   ]
  },
  {
   "cell_type": "code",
   "execution_count": 5,
   "metadata": {},
   "outputs": [
    {
     "data": {
      "text/plain": [
       "[11842,\n",
       " 2232,\n",
       " 160,\n",
       " 7380,\n",
       " 12952,\n",
       " 6712,\n",
       " 490,\n",
       " 6390,\n",
       " 2232,\n",
       " 70,\n",
       " 5472,\n",
       " 2422,\n",
       " 13180,\n",
       " 1260,\n",
       " 310,\n",
       " 2140,\n",
       " 3852,\n",
       " 4102,\n",
       " 70,\n",
       " 2326]"
      ]
     },
     "execution_count": 5,
     "metadata": {},
     "output_type": "execute_result"
    }
   ],
   "source": [
    "fitness = getFitness(population)\n",
    "fitness"
   ]
  },
  {
   "cell_type": "markdown",
   "metadata": {},
   "source": [
    "calculate probability and select parents"
   ]
  },
  {
   "cell_type": "code",
   "execution_count": 6,
   "metadata": {},
   "outputs": [],
   "source": [
    "def select_parent(n, pop): # probability, parent selection\n",
    "    # probability\n",
    "    fitness = getFitness(pop)\n",
    "    total_fitness = sum(fitness)\n",
    "    prob = [round(f/total_fitness,3) for f in fitness]\n",
    "    # parent selection\n",
    "    parents = []\n",
    "    for i in range(n):\n",
    "        # roullete wheel, generate a random number\n",
    "        r = random.choice(range(1,1001,1))/1000\n",
    "        lim = 0\n",
    "        # check bin number of r\n",
    "        for j in range(len(prob)):\n",
    "            lim = lim + prob[j]\n",
    "            if r <= lim :#checking the bin\n",
    "                print(j)\n",
    "                parents.append(pop[j])\n",
    "                break\n",
    "    return parents"
   ]
  },
  {
   "cell_type": "code",
   "execution_count": 7,
   "metadata": {},
   "outputs": [
    {
     "name": "stdout",
     "output_type": "stream",
     "text": [
      "16\n",
      "10\n",
      "3\n",
      "0\n",
      "3\n",
      "11\n",
      "11\n",
      "16\n"
     ]
    },
    {
     "data": {
      "text/plain": [
       "[[1, 0, 0, 0, 0, 1, 1],\n",
       " [1, 0, 0, 1, 1, 1, 1],\n",
       " [1, 0, 1, 1, 0, 1, 1],\n",
       " [1, 1, 1, 0, 0, 1, 0],\n",
       " [1, 0, 1, 1, 0, 1, 1],\n",
       " [0, 1, 1, 0, 1, 1, 0],\n",
       " [0, 1, 1, 0, 1, 1, 0],\n",
       " [1, 0, 0, 0, 0, 1, 1]]"
      ]
     },
     "execution_count": 7,
     "metadata": {},
     "output_type": "execute_result"
    }
   ],
   "source": [
    "parents = select_parent(8, population)\n",
    "parents"
   ]
  },
  {
   "cell_type": "markdown",
   "metadata": {},
   "source": [
    "# Step 3: Crossover"
   ]
  },
  {
   "cell_type": "code",
   "execution_count": 8,
   "metadata": {},
   "outputs": [],
   "source": [
    "def crossover(parents):\n",
    "    num_cross = len(parents) / 2\n",
    "\n",
    "    sz = len(parents)\n",
    "    offspring = []\n",
    "\n",
    "    for x in range(0, sz, 2):\n",
    "        cp = random.choice(range(1, 7))\n",
    "        print(cp)\n",
    "        s1 = parents[x][:cp]\n",
    "        s2 = parents[x + 1][cp:]\n",
    "        s = s1 + s2\n",
    "\n",
    "        s3 = parents[x + 1][:cp]\n",
    "        s4 = parents[x][cp:]\n",
    "        s2 = s3 + s4\n",
    "\n",
    "        offspring.append(s)\n",
    "        offspring.append(s2)\n",
    "\n",
    "    return offspring\n"
   ]
  },
  {
   "cell_type": "code",
   "execution_count": 9,
   "metadata": {},
   "outputs": [
    {
     "name": "stdout",
     "output_type": "stream",
     "text": [
      "4\n",
      "5\n",
      "3\n",
      "1\n"
     ]
    },
    {
     "data": {
      "text/plain": [
       "[[1, 0, 0, 0, 1, 1, 1],\n",
       " [1, 0, 0, 1, 0, 1, 1],\n",
       " [1, 0, 1, 1, 0, 1, 0],\n",
       " [1, 1, 1, 0, 0, 1, 1],\n",
       " [1, 0, 1, 0, 1, 1, 0],\n",
       " [0, 1, 1, 1, 0, 1, 1],\n",
       " [0, 0, 0, 0, 0, 1, 1],\n",
       " [1, 1, 1, 0, 1, 1, 0]]"
      ]
     },
     "execution_count": 9,
     "metadata": {},
     "output_type": "execute_result"
    }
   ],
   "source": [
    "offspring=crossover(parents)\n",
    "offspring"
   ]
  },
  {
   "cell_type": "markdown",
   "metadata": {},
   "source": [
    "# Mutation"
   ]
  },
  {
   "cell_type": "code",
   "execution_count": 10,
   "metadata": {},
   "outputs": [
    {
     "data": {
      "text/plain": [
       "[[1, 0, 0, 0, 1, 1, 1],\n",
       " [1, 0, 0, 1, 0, 1, 1],\n",
       " [1, 0, 1, 1, 0, 1, 0],\n",
       " [1, 1, 1, 0, 0, 1, 1],\n",
       " [1, 0, 1, 1, 1, 1, 0],\n",
       " [0, 1, 1, 1, 0, 1, 1],\n",
       " [0, 0, 0, 0, 0, 1, 1],\n",
       " [1, 1, 1, 0, 1, 1, 0]]"
      ]
     },
     "execution_count": 10,
     "metadata": {},
     "output_type": "execute_result"
    }
   ],
   "source": [
    "def mutation(offspring):\n",
    " offspring_no= random.choice(range(0, 8))\n",
    " index_no=random.choice(range(0, 6))\n",
    " if(offspring[offspring_no][index_no]==0):\n",
    "  offspring[offspring_no][index_no] = 1\n",
    " else:\n",
    "  offspring[offspring_no][index_no] = 0\n",
    "\n",
    " return offspring\n",
    "\n",
    "\n",
    "mutation(offspring)"
   ]
  },
  {
   "cell_type": "markdown",
   "metadata": {},
   "source": [
    "# Step 4: Select Survivor\n",
    "The selected survivors (solutions) will be added to population"
   ]
  },
  {
   "cell_type": "markdown",
   "metadata": {},
   "source": [
    "Select top 2 offspring based on fitness value and add them to population."
   ]
  },
  {
   "cell_type": "markdown",
   "metadata": {},
   "source": [
    "Repeat Step 2 to 4 for further iterations"
   ]
  },
  {
   "cell_type": "code",
   "execution_count": 11,
   "metadata": {},
   "outputs": [],
   "source": [
    "offspring_fitness = getFitness(offspring)\n",
    "\n",
    "def topoffsprings(offspring_fitness,top):\n",
    "    survivors = []\n",
    "    for i in range(top):\n",
    "        top_val = max(offspring_fitness)\n",
    "        index = offspring_fitness.index(top_val)\n",
    "        survivors.append(offspring[index])\n",
    "        offspring_fitness.pop(index)\n",
    "        offspring.pop(index)\n",
    "    return survivors"
   ]
  },
  {
   "cell_type": "code",
   "execution_count": 12,
   "metadata": {},
   "outputs": [
    {
     "data": {
      "text/plain": [
       "[[1, 1, 1, 0, 0, 1, 0],\n",
       " [0, 1, 1, 0, 1, 0, 0],\n",
       " [0, 0, 0, 1, 1, 1, 1],\n",
       " [1, 0, 1, 1, 0, 1, 1],\n",
       " [1, 1, 1, 0, 1, 1, 1],\n",
       " [1, 0, 1, 0, 1, 1, 1],\n",
       " [0, 0, 1, 1, 0, 1, 0],\n",
       " [1, 0, 1, 0, 1, 0, 1],\n",
       " [0, 1, 1, 0, 1, 0, 0],\n",
       " [0, 0, 0, 0, 1, 1, 0],\n",
       " [1, 0, 0, 1, 1, 1, 1],\n",
       " [0, 1, 1, 0, 1, 1, 0],\n",
       " [1, 1, 1, 1, 0, 0, 0],\n",
       " [0, 1, 0, 1, 0, 0, 0],\n",
       " [0, 0, 1, 0, 1, 0, 1],\n",
       " [0, 1, 1, 0, 0, 1, 1],\n",
       " [1, 0, 0, 0, 0, 1, 1],\n",
       " [1, 0, 0, 0, 1, 0, 1],\n",
       " [0, 0, 0, 0, 1, 0, 1],\n",
       " [0, 1, 1, 0, 1, 0, 1],\n",
       " [1, 1, 1, 0, 1, 1, 0],\n",
       " [1, 1, 1, 0, 0, 1, 1]]"
      ]
     },
     "execution_count": 12,
     "metadata": {},
     "output_type": "execute_result"
    }
   ],
   "source": [
    "survivors = topoffsprings(offspring_fitness,2)\n",
    "population=population+survivors\n",
    "population\n"
   ]
  },
  {
   "cell_type": "code",
   "execution_count": null,
   "metadata": {},
   "outputs": [],
   "source": []
  }
 ],
 "metadata": {
  "kernelspec": {
   "display_name": "Python 3",
   "language": "python",
   "name": "python3"
  },
  "language_info": {
   "codemirror_mode": {
    "name": "ipython",
    "version": 3
   },
   "file_extension": ".py",
   "mimetype": "text/x-python",
   "name": "python",
   "nbconvert_exporter": "python",
   "pygments_lexer": "ipython3",
   "version": "3.8.8"
  }
 },
 "nbformat": 4,
 "nbformat_minor": 4
}
